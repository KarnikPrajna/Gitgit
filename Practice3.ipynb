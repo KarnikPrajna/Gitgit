{
 "cells": [
  {
   "cell_type": "markdown",
   "id": "23583472",
   "metadata": {},
   "source": [
    "JSON is light weight compaired to XML"
   ]
  },
  {
   "cell_type": "code",
   "execution_count": 8,
   "id": "51f793c9",
   "metadata": {},
   "outputs": [],
   "source": [
    "'''Write a program to:\n",
    "   1) create an address book and write some records in it\n",
    "   2) Read records from this book'''\n",
    "\n",
    "book = {}\n",
    "book[\"tom\"] = {\n",
    "    'name': \"tom\",\n",
    "    'addr': \"1 red street NY\",\n",
    "    'PhNo': 99008877\n",
    "}\n",
    "book[\"bob\"] = {\n",
    "    'name': \"bob\",\n",
    "    'addr': \"1 green street NY\",\n",
    "    'PhNo': 99006677\n",
    "}\n",
    "import json\n",
    "s = json.dumps(book)\n",
    "with open(r\"D:\\PRAJNA\\hold_fold\\book.txt\",\"w\") as f:\n",
    "    f.write(s)"
   ]
  },
  {
   "cell_type": "code",
   "execution_count": 9,
   "id": "0e9ab191",
   "metadata": {},
   "outputs": [
    {
     "name": "stdout",
     "output_type": "stream",
     "text": [
      "{\"tom\": {\"name\": \"tom\", \"addr\": \"1 red street NY\", \"PhNo\": 99008877}, \"bob\": {\"name\": \"bob\", \"addr\": \"1 green street NY\", \"PhNo\": 99006677}}\n"
     ]
    }
   ],
   "source": [
    "f = open(r\"D:\\PRAJNA\\hold_fold\\book.txt\",\"r\")\n",
    "s = f.read()\n",
    "print(s)"
   ]
  },
  {
   "cell_type": "code",
   "execution_count": 10,
   "id": "d64a31ce",
   "metadata": {},
   "outputs": [
    {
     "data": {
      "text/plain": [
       "{'tom': {'name': 'tom', 'addr': '1 red street NY', 'PhNo': 99008877},\n",
       " 'bob': {'name': 'bob', 'addr': '1 green street NY', 'PhNo': 99006677}}"
      ]
     },
     "execution_count": 10,
     "metadata": {},
     "output_type": "execute_result"
    }
   ],
   "source": [
    "books = json.loads(s)\n",
    "books"
   ]
  },
  {
   "cell_type": "code",
   "execution_count": 11,
   "id": "252090c9",
   "metadata": {},
   "outputs": [
    {
     "data": {
      "text/plain": [
       "'1 green street NY'"
      ]
     },
     "execution_count": 11,
     "metadata": {},
     "output_type": "execute_result"
    }
   ],
   "source": [
    "books[\"bob\"][\"addr\"]"
   ]
  },
  {
   "cell_type": "code",
   "execution_count": 12,
   "id": "dc5abf12",
   "metadata": {},
   "outputs": [
    {
     "name": "stdout",
     "output_type": "stream",
     "text": [
      "{'name': 'tom', 'addr': '1 red street NY', 'PhNo': 99008877}\n",
      "{'name': 'bob', 'addr': '1 green street NY', 'PhNo': 99006677}\n"
     ]
    }
   ],
   "source": [
    "for per in books:\n",
    "    print(books[per])"
   ]
  },
  {
   "cell_type": "code",
   "execution_count": null,
   "id": "e2de3a1b",
   "metadata": {},
   "outputs": [],
   "source": []
  },
  {
   "cell_type": "markdown",
   "id": "71f48d81",
   "metadata": {},
   "source": [
    "Reading and writing to files"
   ]
  },
  {
   "cell_type": "code",
   "execution_count": 3,
   "id": "34316f87",
   "metadata": {},
   "outputs": [],
   "source": [
    "'''\n",
    "  1) Create a new file and write to it\n",
    "  2) Reading file line by line\n",
    "  3) File open modes\n",
    "  4) with statement  \n",
    "'''\n",
    "\n",
    "f = open(r\"D:\\PRAJNA\\hold_fold\\funny.txt\",\"w\")\n",
    "f.write(\"I love Python\")\n",
    "f.close()\n",
    "f = open(r\"D:\\PRAJNA\\hold_fold\\funny.txt\",\"w\")\n",
    "f.write(\"I love Javascript.\")\n",
    "f.close()\n",
    "f = open(r\"D:\\PRAJNA\\hold_fold\\funny.txt\",\"a\")\n",
    "f.write(\"I love Python.\")\n",
    "f.close()\n",
    "f = open(r\"D:\\PRAJNA\\hold_fold\\funny.txt\",\"a\")\n",
    "f.write(\"\\nI love C programming\")\n",
    "f.close()"
   ]
  },
  {
   "cell_type": "code",
   "execution_count": 13,
   "id": "0a4cfa1f",
   "metadata": {},
   "outputs": [
    {
     "name": "stdout",
     "output_type": "stream",
     "text": [
      "6\n",
      "5\n",
      "3\n",
      "9\n"
     ]
    }
   ],
   "source": [
    "'''Cearte a new file that copies all lines in funny.txt\n",
    "and adds word count at the end of each line.'''\n",
    "f = open(r\"D:\\PRAJNA\\hold_fold\\funny.txt\",\"r\")\n",
    "f_out = open(r\"D:\\PRAJNA\\hold_fold\\funnywc.txt\",\"w\")\n",
    "for l in f:\n",
    "    tokens = l.split(\" \")\n",
    "    f_out.write(\"wordcount:\"+str(len(tokens))+l)\n",
    "    print(len(tokens))\n",
    "f.close\n",
    "f_out.close()"
   ]
  },
  {
   "cell_type": "markdown",
   "id": "88ce493b",
   "metadata": {},
   "source": [
    "NEXT DAY"
   ]
  },
  {
   "cell_type": "code",
   "execution_count": 16,
   "id": "438e8dc3",
   "metadata": {},
   "outputs": [
    {
     "data": {
      "text/plain": [
       "'__main__'"
      ]
     },
     "execution_count": 16,
     "metadata": {},
     "output_type": "execute_result"
    }
   ],
   "source": [
    "'''what is: int '__name__' == '__main__': ?? '''\n",
    "__name__  ### what is: __name__"
   ]
  },
  {
   "cell_type": "code",
   "execution_count": 20,
   "id": "1013d2ed",
   "metadata": {},
   "outputs": [
    {
     "name": "stdout",
     "output_type": "stream",
     "text": [
      "Area of a rectangle of base 3ft and height 4ft:  12 ft\n"
     ]
    }
   ],
   "source": [
    "def are(b,h):\n",
    "    return(b*h)\n",
    "if __name__ == '__main__':    ###this is the entry opint in python just like void main() in C\n",
    "    area = are(3,4)\n",
    "    print(\"Area of a rectangle of base 3ft and height 4ft: \",area,\"ft\")"
   ]
  }
 ],
 "metadata": {
  "celltoolbar": "Raw Cell Format",
  "kernelspec": {
   "display_name": "Python 3",
   "language": "python",
   "name": "python3"
  },
  "language_info": {
   "codemirror_mode": {
    "name": "ipython",
    "version": 3
   },
   "file_extension": ".py",
   "mimetype": "text/x-python",
   "name": "python",
   "nbconvert_exporter": "python",
   "pygments_lexer": "ipython3",
   "version": "3.8.8"
  }
 },
 "nbformat": 4,
 "nbformat_minor": 5
}
